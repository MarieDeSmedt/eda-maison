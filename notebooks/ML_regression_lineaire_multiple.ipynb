{
 "cells": [
  {
   "cell_type": "markdown",
   "metadata": {},
   "source": [
    "# Regression lineaire multiple"
   ]
  },
  {
   "cell_type": "markdown",
   "metadata": {},
   "source": [
    "## 1. Importation des données nettoyées et configuration du data set"
   ]
  },
  {
   "cell_type": "code",
   "execution_count": 188,
   "metadata": {},
   "outputs": [],
   "source": [
    "# On importe les librairies dont on aura besoin pour ce tp\n",
    "import numpy as np\n",
    "import pandas as pd\n",
    "import matplotlib.pyplot as plt\n",
    "import seaborn as sns\n",
    "from scipy import stats\n",
    "\n",
    "pd.set_option('display.max_columns', None)\n",
    "\n",
    "# On charge le dataset\n",
    "df = pd.read_csv(\"../csv/clean.csv\", sep=',')"
   ]
  },
  {
   "cell_type": "code",
   "execution_count": 189,
   "metadata": {},
   "outputs": [
    {
     "data": {
      "text/plain": [
       "(1460, 76)"
      ]
     },
     "execution_count": 189,
     "metadata": {},
     "output_type": "execute_result"
    }
   ],
   "source": [
    "df.shape"
   ]
  },
  {
   "cell_type": "markdown",
   "metadata": {},
   "source": [
    "## 1. Choix du modèle de machine learning"
   ]
  },
  {
   "cell_type": "markdown",
   "metadata": {},
   "source": [
    "on passe de la regression lineaire simple à la regression lineaire multiple"
   ]
  },
  {
   "cell_type": "markdown",
   "metadata": {},
   "source": [
    "## 2. Préparation des données"
   ]
  },
  {
   "cell_type": "markdown",
   "metadata": {},
   "source": [
    "### 2.a échantillonage"
   ]
  },
  {
   "cell_type": "code",
   "execution_count": 190,
   "metadata": {},
   "outputs": [],
   "source": [
    "# Le jeu de données étant petit il n'est pas nécessaire de réaliser l'apprentissage sur un échantillon\n",
    "\n",
    "#df.sample(n=10000)"
   ]
  },
  {
   "cell_type": "markdown",
   "metadata": {},
   "source": [
    "### 2.b Sélection de la variable cible et des variables à explicatives"
   ]
  },
  {
   "cell_type": "markdown",
   "metadata": {},
   "source": [
    "Il est apparu que la seule variable GRLiveArea ne suffit pas à calculer le SalePrice, je vais donc rajouter les autres variables quantitatives relevées dans l'analyse, c'est a dire celle avec le coefficient de corrélation le plus fort."
   ]
  },
  {
   "cell_type": "markdown",
   "metadata": {},
   "source": [
    "GrLivArea:  Above grade (ground) living area square feet, indice de corrélation de 0.71\n",
    "\n",
    "OverallQual:Rates the overall material and finish of the house , indice de corrélation de 0.80\n",
    "\n",
    "GarageCars: Size of garage in car capacity, indice de corrélation de 0.64\n",
    "\n",
    "GarageArea:Size of garage in square feet, indice de corrélation de 0.62"
   ]
  },
  {
   "cell_type": "markdown",
   "metadata": {},
   "source": [
    "On définit à présent notre variable cible"
   ]
  },
  {
   "cell_type": "code",
   "execution_count": 191,
   "metadata": {},
   "outputs": [],
   "source": [
    "y = df.SalePrice"
   ]
  },
  {
   "cell_type": "markdown",
   "metadata": {},
   "source": [
    "Ainsi que nos variables explicatives"
   ]
  },
  {
   "cell_type": "code",
   "execution_count": 192,
   "metadata": {},
   "outputs": [],
   "source": [
    "X = df[[\"GrLivArea\",\"OverallQual\",\"GarageArea\",\"GarageCars\"]]"
   ]
  },
  {
   "cell_type": "markdown",
   "metadata": {},
   "source": [
    "## 3. Division du jeu de données en training/validation/testing sets"
   ]
  },
  {
   "cell_type": "code",
   "execution_count": 193,
   "metadata": {},
   "outputs": [],
   "source": [
    "from sklearn.model_selection import train_test_split\n",
    "xtrain, xtest, ytrain, ytest = train_test_split(X, y, train_size=0.8)"
   ]
  },
  {
   "cell_type": "markdown",
   "metadata": {},
   "source": [
    "## 4. Apprentissage sur le training set"
   ]
  },
  {
   "cell_type": "markdown",
   "metadata": {},
   "source": [
    "#### On implémente la regression linéaire"
   ]
  },
  {
   "cell_type": "code",
   "execution_count": 194,
   "metadata": {},
   "outputs": [
    {
     "data": {
      "text/plain": [
       "LinearRegression()"
      ]
     },
     "execution_count": 194,
     "metadata": {},
     "output_type": "execute_result"
    }
   ],
   "source": [
    "from sklearn import linear_model\n",
    "regr = linear_model.LinearRegression()\n",
    "regr.fit(xtrain, ytrain)"
   ]
  },
  {
   "cell_type": "markdown",
   "metadata": {},
   "source": [
    "#### On obtient ainsi les parmètres β1 et β0 de notre modèle"
   ]
  },
  {
   "cell_type": "code",
   "execution_count": 195,
   "metadata": {},
   "outputs": [
    {
     "name": "stdout",
     "output_type": "stream",
     "text": [
      "Le coefficient β1 est égal à 46.38 tandis que l'intercept β0 est égal à -101693\n"
     ]
    }
   ],
   "source": [
    "print(\"Le coefficient β1 est égal à {} tandis que l'intercept β0 est égal à {}\"\n",
    "      .format(round(regr.coef_[0],2),round(regr.intercept_)))"
   ]
  },
  {
   "cell_type": "markdown",
   "metadata": {},
   "source": [
    "#### On peut à présent réaliser des prédictions"
   ]
  },
  {
   "cell_type": "code",
   "execution_count": 196,
   "metadata": {},
   "outputs": [
    {
     "name": "stdout",
     "output_type": "stream",
     "text": [
      "selon nos données, un logement de 1752 pieds2, de qualité 9, avec un garage de 576 m2, et avec 2garages a un prix de vente de 319900 €\n",
      "Selon le modèle, un logement de 1752 pieds2, de qualité 9, avec un garage de 576m2, et avec 2garages doit avoir un prix de vente de 281143 €\n"
     ]
    }
   ],
   "source": [
    "i=45\n",
    "\n",
    "print(\"selon nos données, un logement de {} pieds2, de qualité {}, avec un garage de {} m2, et avec {}garages a un prix de vente de {} €\"\n",
    "      .format(df.iloc[i].GrLivArea,df.iloc[i].OverallQual,df.iloc[i].GarageArea,df.iloc[i].GarageCars,df.iloc[i].SalePrice))\n",
    "\n",
    "x_to_predict = (df.iloc[i].GrLivArea,df.iloc[i].OverallQual,df.iloc[i].GarageArea,df.iloc[i].GarageCars)\n",
    "x_df =  pd.DataFrame({'SalePrice': [x_to_predict[0]],'GrLivArea': [x_to_predict[1]],'GarageArea': [x_to_predict[2]],'GarageCars': [x_to_predict[3]]})\n",
    "\n",
    "print(\"Selon le modèle, un logement de {} pieds2, de qualité {}, avec un garage de {}m2, et avec {}garages doit avoir un prix de vente de {} €\"\n",
    "      .format(x_to_predict[0],x_to_predict[1],x_to_predict[2],x_to_predict[3], round(regr.predict(x_df)[0])))\n"
   ]
  },
  {
   "cell_type": "markdown",
   "metadata": {},
   "source": [
    "## 5. Evaluation du modèle sur le testing set"
   ]
  },
  {
   "cell_type": "code",
   "execution_count": 197,
   "metadata": {},
   "outputs": [],
   "source": [
    "from sklearn.metrics import mean_squared_error, r2_score"
   ]
  },
  {
   "cell_type": "markdown",
   "metadata": {},
   "source": [
    "#### évaluation à partir du R2"
   ]
  },
  {
   "cell_type": "code",
   "execution_count": 198,
   "metadata": {},
   "outputs": [
    {
     "name": "stdout",
     "output_type": "stream",
     "text": [
      "Pour les données d'entrainement le R2 vaut 0.739 alors que pour les données de test, il est de 0.752\n"
     ]
    }
   ],
   "source": [
    "ytrainpred = regr.predict(xtrain)\n",
    "ytestpred = regr.predict(xtest)\n",
    "\n",
    "print (\"Pour les données d'entrainement le R2 vaut {} alors que pour les données de test, il est de {}\" \n",
    "      .format(round(r2_score(ytrain, ytrainpred),3), round(r2_score(ytest, ytestpred),3)))\n",
    "\n"
   ]
  },
  {
   "cell_type": "markdown",
   "metadata": {},
   "source": [
    "Le coefficient de détermination R2 est monté à plus de 0.735, c'est un résultat solide. \n",
    "les R2 des jeux d'entrainement et de test sont proche, le modèle est donc robuste."
   ]
  },
  {
   "cell_type": "markdown",
   "metadata": {},
   "source": [
    "#### évaluation à partir du RMSE"
   ]
  },
  {
   "cell_type": "code",
   "execution_count": 199,
   "metadata": {},
   "outputs": [
    {
     "name": "stdout",
     "output_type": "stream",
     "text": [
      "Pour les données d'entrainement le RMSE vaut 40915.892 alors que pour les données de test, il est de 38254.292\n"
     ]
    }
   ],
   "source": [
    "print (\"Pour les données d'entrainement le RMSE vaut {} alors que pour les données de test, il est de {}\" \n",
    "      .format(round(mean_squared_error(ytrain, ytrainpred, squared=False),3), \n",
    "              round(mean_squared_error(ytest, ytestpred, squared=False),3)))"
   ]
  },
  {
   "cell_type": "markdown",
   "metadata": {},
   "source": [
    "A nouveau on remarque qu'il y a peu de perte entre les deux modèles"
   ]
  },
  {
   "cell_type": "markdown",
   "metadata": {},
   "source": [
    "# 6. regression lineaire de lasso"
   ]
  },
  {
   "cell_type": "code",
   "execution_count": 200,
   "metadata": {},
   "outputs": [
    {
     "name": "stdout",
     "output_type": "stream",
     "text": [
      "Le coefficient β1 est égal à 46.39 tandis que l'intercept β0 est égal à -101678\n"
     ]
    }
   ],
   "source": [
    "from sklearn import linear_model\n",
    "regr = linear_model.Lasso(alpha=5)\n",
    "regr.fit(xtrain, ytrain)\n",
    "\n",
    "print(\"Le coefficient β1 est égal à {} tandis que l'intercept β0 est égal à {}\"\n",
    "      .format(round(regr.coef_[0],2),round(regr.intercept_)))\n"
   ]
  },
  {
   "cell_type": "markdown",
   "metadata": {},
   "source": [
    "## 6.1 Evaluation du modèle sur le testing set"
   ]
  },
  {
   "cell_type": "code",
   "execution_count": 201,
   "metadata": {},
   "outputs": [
    {
     "name": "stdout",
     "output_type": "stream",
     "text": [
      "Pour les données d'entrainement le R2 vaut 0.739 alors que pour les données de test, il est de 0.752\n"
     ]
    }
   ],
   "source": [
    "ytrainpred = regr.predict(xtrain)\n",
    "ytestpred = regr.predict(xtest)\n",
    "\n",
    "print (\"Pour les données d'entrainement le R2 vaut {} alors que pour les données de test, il est de {}\" \n",
    "      .format(round(r2_score(ytrain, ytrainpred),3), round(r2_score(ytest, ytestpred),3)))\n"
   ]
  },
  {
   "cell_type": "code",
   "execution_count": 202,
   "metadata": {},
   "outputs": [
    {
     "name": "stdout",
     "output_type": "stream",
     "text": [
      "Pour les données d'entrainement le RMSE vaut 40915.894 alors que pour les données de test, il est de 38252.364\n"
     ]
    }
   ],
   "source": [
    "print (\"Pour les données d'entrainement le RMSE vaut {} alors que pour les données de test, il est de {}\" \n",
    "      .format(round(mean_squared_error(ytrain, ytrainpred, squared=False),3), \n",
    "              round(mean_squared_error(ytest, ytestpred, squared=False),3)))"
   ]
  },
  {
   "cell_type": "markdown",
   "metadata": {},
   "source": [
    "# 7. regression lineaire de ridge"
   ]
  },
  {
   "cell_type": "code",
   "execution_count": 203,
   "metadata": {},
   "outputs": [
    {
     "name": "stdout",
     "output_type": "stream",
     "text": [
      "Le coefficient β1 est égal à 61.34 tandis que l'intercept β0 est égal à -57094\n"
     ]
    }
   ],
   "source": [
    "from sklearn import linear_model\n",
    "regr = linear_model.Ridge(alpha=1000)\n",
    "regr.fit(xtrain, ytrain)\n",
    "\n",
    "print(\"Le coefficient β1 est égal à {} tandis que l'intercept β0 est égal à {}\"\n",
    "      .format(round(regr.coef_[0],2),round(regr.intercept_)))"
   ]
  },
  {
   "cell_type": "markdown",
   "metadata": {},
   "source": [
    "## 7.1 Evaluation du modèle sur le testing set"
   ]
  },
  {
   "cell_type": "code",
   "execution_count": 204,
   "metadata": {},
   "outputs": [
    {
     "name": "stdout",
     "output_type": "stream",
     "text": [
      "Pour les données d'entrainement le R2 vaut 0.708 alors que pour les données de test, il est de 0.753\n"
     ]
    }
   ],
   "source": [
    "ytrainpred = regr.predict(xtrain)\n",
    "ytestpred = regr.predict(xtest)\n",
    "\n",
    "print (\"Pour les données d'entrainement le R2 vaut {} alors que pour les données de test, il est de {}\" \n",
    "      .format(round(r2_score(ytrain, ytrainpred),3), round(r2_score(ytest, ytestpred),3)))"
   ]
  },
  {
   "cell_type": "code",
   "execution_count": 205,
   "metadata": {},
   "outputs": [
    {
     "name": "stdout",
     "output_type": "stream",
     "text": [
      "Pour les données d'entrainement le RMSE vaut 43224.548 alors que pour les données de test, il est de 38172.043\n"
     ]
    }
   ],
   "source": [
    "print (\"Pour les données d'entrainement le RMSE vaut {} alors que pour les données de test, il est de {}\" \n",
    "      .format(round(mean_squared_error(ytrain, ytrainpred, squared=False),3), \n",
    "              round(mean_squared_error(ytest, ytestpred, squared=False),3)))"
   ]
  }
 ],
 "metadata": {
  "kernelspec": {
   "display_name": "Python 3",
   "language": "python",
   "name": "python3"
  },
  "language_info": {
   "codemirror_mode": {
    "name": "ipython",
    "version": 3
   },
   "file_extension": ".py",
   "mimetype": "text/x-python",
   "name": "python",
   "nbconvert_exporter": "python",
   "pygments_lexer": "ipython3",
   "version": "3.8.5"
  }
 },
 "nbformat": 4,
 "nbformat_minor": 4
}
